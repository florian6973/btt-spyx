{
 "cells": [
  {
   "cell_type": "markdown",
   "metadata": {},
   "source": []
  },
  {
   "cell_type": "code",
   "execution_count": 16,
   "metadata": {},
   "outputs": [],
   "source": [
    "import torch"
   ]
  },
  {
   "cell_type": "code",
   "execution_count": 25,
   "metadata": {},
   "outputs": [],
   "source": [
    "w1 = torch.tensor(5.0, requires_grad=True)\n",
    "x1 = torch.tensor(2.0, requires_grad=True)\n",
    "x2 = torch.tensor(3.0, requires_grad=True)"
   ]
  },
  {
   "cell_type": "code",
   "execution_count": 26,
   "metadata": {},
   "outputs": [],
   "source": [
    "h1 = w1 * x1\n",
    "z1 = h1*h1\n",
    "\n",
    "h2 = w1 * x2 + 2*z1 + 3*h1\n",
    "z2 = h2*h2\n",
    "e = 5*z1 + 6 *z2"
   ]
  },
  {
   "cell_type": "code",
   "execution_count": 27,
   "metadata": {},
   "outputs": [
    {
     "data": {
      "text/plain": [
       "<AddBackward0 at 0x224c856a7a0>"
      ]
     },
     "execution_count": 27,
     "metadata": {},
     "output_type": "execute_result"
    }
   ],
   "source": [
    "e.grad_fn"
   ]
  },
  {
   "cell_type": "code",
   "execution_count": 28,
   "metadata": {},
   "outputs": [],
   "source": [
    "e.backward()"
   ]
  },
  {
   "cell_type": "code",
   "execution_count": 29,
   "metadata": {},
   "outputs": [
    {
     "data": {
      "text/plain": [
       "tensor(261860.)"
      ]
     },
     "execution_count": 29,
     "metadata": {},
     "output_type": "execute_result"
    }
   ],
   "source": [
    "w1.grad"
   ]
  },
  {
   "cell_type": "code",
   "execution_count": 30,
   "metadata": {},
   "outputs": [
    {
     "name": "stdout",
     "output_type": "stream",
     "text": [
      "tensor(245., grad_fn=<AddBackward0>)\n"
     ]
    }
   ],
   "source": [
    "print(h2)"
   ]
  },
  {
   "cell_type": "code",
   "execution_count": 34,
   "metadata": {},
   "outputs": [
    {
     "name": "stdout",
     "output_type": "stream",
     "text": [
      "tensor(261860., grad_fn=<AddBackward0>)\n"
     ]
    }
   ],
   "source": [
    "def check_grad():\n",
    "    grad_e_z1 = 5\n",
    "    grad_z1_h1 = 2*h1\n",
    "    grad_h1_w1 = x1\n",
    "\n",
    "    grad_e_z2 = 6\n",
    "    grad_z2_h2 = 2*h2\n",
    "    grad_h2_w1 = x2\n",
    "    grad_h2_h1 = 3\n",
    "    grad_h1_w1 = x1\n",
    "    grad_h2_z1 = 2\n",
    "    # grad_z1_h1 = 2*h1\n",
    "    # grad_h1_w1 = x1\n",
    "\n",
    "    return grad_e_z1 * grad_z1_h1 * grad_h1_w1 + (  \n",
    "        grad_e_z2 * grad_z2_h2 * (\n",
    "            grad_h2_w1 + \n",
    "            grad_h2_h1 * grad_h1_w1 + \n",
    "            grad_h2_z1 * grad_z1_h1 * grad_h1_w1\n",
    "        ))\n",
    "\n",
    "print(check_grad())"
   ]
  },
  {
   "cell_type": "code",
   "execution_count": 15,
   "metadata": {},
   "outputs": [
    {
     "name": "stdout",
     "output_type": "stream",
     "text": [
      "tensor(4410., grad_fn=<MulBackward0>)\n"
     ]
    }
   ],
   "source": [
    "def check_grad2():\n",
    "    grad_z2_h2 = 2*h2\n",
    "    grad_h2_w1 = x2\n",
    "    grad_h2_h1 = 3\n",
    "    grad_h1_w1 = x1\n",
    "    grad_h2_z1 = 2\n",
    "    grad_z1_h1 = 2*h1\n",
    "    grad_h1_w1 = x1\n",
    "\n",
    "    return grad_z2_h2 * (\n",
    "        grad_h2_w1 + \n",
    "        grad_h2_h1 * grad_h1_w1  \n",
    "        # + grad_h2_z1 * grad_z1_h1 * grad_h1_w1\n",
    "    )\n",
    "\n",
    "print(check_grad2())"
   ]
  },
  {
   "cell_type": "code",
   "execution_count": null,
   "metadata": {},
   "outputs": [],
   "source": []
  }
 ],
 "metadata": {
  "kernelspec": {
   "display_name": "spyx",
   "language": "python",
   "name": "python3"
  },
  "language_info": {
   "codemirror_mode": {
    "name": "ipython",
    "version": 3
   },
   "file_extension": ".py",
   "mimetype": "text/x-python",
   "name": "python",
   "nbconvert_exporter": "python",
   "pygments_lexer": "ipython3",
   "version": "3.12.2"
  }
 },
 "nbformat": 4,
 "nbformat_minor": 2
}
